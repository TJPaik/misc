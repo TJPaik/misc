{
 "cells": [
  {
   "cell_type": "code",
   "execution_count": 1,
   "outputs": [],
   "source": [
    "import matplotlib.pyplot as plt\n",
    "import numpy as np\n",
    "from joblib import Parallel, delayed\n",
    "\n",
    "from Expectation_EulerCharacteristic.sphere import euler_characteristic"
   ],
   "metadata": {
    "collapsed": false,
    "pycharm": {
     "name": "#%%\n"
    }
   }
  },
  {
   "cell_type": "code",
   "execution_count": 2,
   "outputs": [
    {
     "name": "stderr",
     "output_type": "stream",
     "text": [
      "[Parallel(n_jobs=8)]: Using backend LokyBackend with 8 concurrent workers.\n",
      "[Parallel(n_jobs=8)]: Done   2 tasks      | elapsed:    6.0s\n",
      "[Parallel(n_jobs=8)]: Done  16 tasks      | elapsed:   11.9s\n",
      "[Parallel(n_jobs=8)]: Done  34 tasks      | elapsed:   26.0s\n",
      "[Parallel(n_jobs=8)]: Done  56 tasks      | elapsed:   38.4s\n",
      "[Parallel(n_jobs=8)]: Done  82 tasks      | elapsed:  1.0min\n",
      "[Parallel(n_jobs=8)]: Done 112 tasks      | elapsed:  1.4min\n",
      "[Parallel(n_jobs=8)]: Done 146 tasks      | elapsed:  1.8min\n",
      "[Parallel(n_jobs=8)]: Done 184 tasks      | elapsed:  2.2min\n",
      "[Parallel(n_jobs=8)]: Done 226 tasks      | elapsed:  2.7min\n",
      "[Parallel(n_jobs=8)]: Done 272 tasks      | elapsed:  3.2min\n",
      "[Parallel(n_jobs=8)]: Done 322 tasks      | elapsed:  3.6min\n",
      "[Parallel(n_jobs=8)]: Done 376 tasks      | elapsed:  4.1min\n",
      "[Parallel(n_jobs=8)]: Done 434 tasks      | elapsed:  4.6min\n",
      "[Parallel(n_jobs=8)]: Done 496 tasks      | elapsed:  5.2min\n",
      "[Parallel(n_jobs=8)]: Done 562 tasks      | elapsed:  5.7min\n",
      "[Parallel(n_jobs=8)]: Done 632 tasks      | elapsed:  6.3min\n",
      "[Parallel(n_jobs=8)]: Done 706 tasks      | elapsed:  6.9min\n",
      "[Parallel(n_jobs=8)]: Done 784 tasks      | elapsed:  7.6min\n",
      "[Parallel(n_jobs=8)]: Done 866 tasks      | elapsed:  8.3min\n",
      "[Parallel(n_jobs=8)]: Done 952 tasks      | elapsed:  9.0min\n",
      "[Parallel(n_jobs=8)]: Done 1042 tasks      | elapsed:  9.8min\n",
      "[Parallel(n_jobs=8)]: Done 1136 tasks      | elapsed: 10.6min\n",
      "[Parallel(n_jobs=8)]: Done 1234 tasks      | elapsed: 11.4min\n",
      "[Parallel(n_jobs=8)]: Done 1336 tasks      | elapsed: 12.3min\n",
      "[Parallel(n_jobs=8)]: Done 1442 tasks      | elapsed: 13.2min\n",
      "[Parallel(n_jobs=8)]: Done 1552 tasks      | elapsed: 14.2min\n",
      "[Parallel(n_jobs=8)]: Done 1666 tasks      | elapsed: 15.1min\n",
      "[Parallel(n_jobs=8)]: Done 1784 tasks      | elapsed: 16.1min\n",
      "[Parallel(n_jobs=8)]: Done 1906 tasks      | elapsed: 17.2min\n",
      "[Parallel(n_jobs=8)]: Done 2032 tasks      | elapsed: 18.2min\n",
      "[Parallel(n_jobs=8)]: Done 2162 tasks      | elapsed: 19.4min\n",
      "[Parallel(n_jobs=8)]: Done 2296 tasks      | elapsed: 20.5min\n",
      "[Parallel(n_jobs=8)]: Done 2434 tasks      | elapsed: 21.7min\n",
      "[Parallel(n_jobs=8)]: Done 2576 tasks      | elapsed: 22.9min\n",
      "[Parallel(n_jobs=8)]: Done 2722 tasks      | elapsed: 24.1min\n",
      "[Parallel(n_jobs=8)]: Done 2872 tasks      | elapsed: 25.4min\n",
      "[Parallel(n_jobs=8)]: Done 3026 tasks      | elapsed: 26.7min\n",
      "[Parallel(n_jobs=8)]: Done 3184 tasks      | elapsed: 28.1min\n",
      "[Parallel(n_jobs=8)]: Done 3346 tasks      | elapsed: 29.5min\n",
      "[Parallel(n_jobs=8)]: Done 3512 tasks      | elapsed: 30.9min\n",
      "[Parallel(n_jobs=8)]: Done 3682 tasks      | elapsed: 32.3min\n",
      "[Parallel(n_jobs=8)]: Done 3856 tasks      | elapsed: 33.8min\n",
      "[Parallel(n_jobs=8)]: Done 4034 tasks      | elapsed: 35.3min\n",
      "[Parallel(n_jobs=8)]: Done 4216 tasks      | elapsed: 36.9min\n",
      "[Parallel(n_jobs=8)]: Done 4402 tasks      | elapsed: 38.4min\n",
      "[Parallel(n_jobs=8)]: Done 4592 tasks      | elapsed: 40.0min\n",
      "[Parallel(n_jobs=8)]: Done 4786 tasks      | elapsed: 41.7min\n",
      "[Parallel(n_jobs=8)]: Done 4984 tasks      | elapsed: 43.4min\n",
      "[Parallel(n_jobs=8)]: Done 5186 tasks      | elapsed: 45.1min\n",
      "[Parallel(n_jobs=8)]: Done 5392 tasks      | elapsed: 46.9min\n",
      "[Parallel(n_jobs=8)]: Done 5602 tasks      | elapsed: 48.6min\n",
      "[Parallel(n_jobs=8)]: Done 5816 tasks      | elapsed: 50.4min\n",
      "[Parallel(n_jobs=8)]: Done 6034 tasks      | elapsed: 52.3min\n",
      "[Parallel(n_jobs=8)]: Done 6256 tasks      | elapsed: 54.2min\n",
      "[Parallel(n_jobs=8)]: Done 6482 tasks      | elapsed: 56.1min\n",
      "[Parallel(n_jobs=8)]: Done 6712 tasks      | elapsed: 58.0min\n",
      "[Parallel(n_jobs=8)]: Done 6946 tasks      | elapsed: 60.0min\n",
      "[Parallel(n_jobs=8)]: Done 7184 tasks      | elapsed: 62.0min\n",
      "[Parallel(n_jobs=8)]: Done 7426 tasks      | elapsed: 64.0min\n",
      "[Parallel(n_jobs=8)]: Done 7672 tasks      | elapsed: 66.1min\n",
      "[Parallel(n_jobs=8)]: Done 7922 tasks      | elapsed: 68.2min\n",
      "[Parallel(n_jobs=8)]: Done 8176 tasks      | elapsed: 70.4min\n",
      "[Parallel(n_jobs=8)]: Done 8434 tasks      | elapsed: 72.5min\n",
      "[Parallel(n_jobs=8)]: Done 8696 tasks      | elapsed: 74.6min\n",
      "[Parallel(n_jobs=8)]: Done 8962 tasks      | elapsed: 76.8min\n",
      "[Parallel(n_jobs=8)]: Done 9232 tasks      | elapsed: 79.1min\n",
      "[Parallel(n_jobs=8)]: Done 9506 tasks      | elapsed: 81.3min\n",
      "[Parallel(n_jobs=8)]: Done 9784 tasks      | elapsed: 83.6min\n",
      "[Parallel(n_jobs=8)]: Done 10000 out of 10000 | elapsed: 85.4min finished\n"
     ]
    }
   ],
   "source": [
    "output = Parallel(n_jobs=8, verbose=9)(\n",
    "    delayed(euler_characteristic)(20, 2, np.linspace(0, 2 * np.pi * 3, 300))\n",
    "    for _ in range(10000)\n",
    ")\n",
    "output = np.asarray(output)"
   ],
   "metadata": {
    "collapsed": false,
    "pycharm": {
     "name": "#%%\n"
    }
   }
  },
  {
   "cell_type": "code",
   "execution_count": 3,
   "outputs": [
    {
     "data": {
      "text/plain": "<Figure size 432x288 with 2 Axes>",
      "image/png": "[encoded data removed]"
     },
     "metadata": {
      "needs_background": "light"
     },
     "output_type": "display_data"
    }
   ],
   "source": [
    "fig, axs = plt.subplots(2, 1)\n",
    "axs[0].plot(\n",
    "    output.mean(axis=0)\n",
    ")\n",
    "axs[1].plot(\n",
    "    output.std(axis=0)\n",
    ")\n",
    "plt.show()"
   ],
   "metadata": {
    "collapsed": false,
    "pycharm": {
     "name": "#%%\n"
    }
   }
  },
  {
   "cell_type": "code",
   "execution_count": 4,
   "outputs": [],
   "source": [
    "np.save('ECC_sphere.npy', output)"
   ],
   "metadata": {
    "collapsed": false,
    "pycharm": {
     "name": "#%%\n"
    }
   }
  }
 ],
 "metadata": {
  "kernelspec": {
   "display_name": "Python 3",
   "language": "python",
   "name": "python3"
  },
  "language_info": {
   "codemirror_mode": {
    "name": "ipython",
    "version": 2
   },
   "file_extension": ".py",
   "mimetype": "text/x-python",
   "name": "python",
   "nbconvert_exporter": "python",
   "pygments_lexer": "ipython2",
   "version": "2.7.6"
  }
 },
 "nbformat": 4,
 "nbformat_minor": 0
}