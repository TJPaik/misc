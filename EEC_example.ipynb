{
 "cells": [
  {
   "cell_type": "code",
   "execution_count": 1,
   "metadata": {
    "collapsed": false,
    "pycharm": {
     "name": "#%%\n"
    }
   },
   "outputs": [],
   "source": [
    "import matplotlib.pyplot as plt\n",
    "import numpy as np\n",
    "from joblib import Parallel, delayed\n",
    "\n",
    "from Expectation_EulerCharacteristic.sphere import euler_characteristic"
   ]
  },
  {
   "cell_type": "code",
   "execution_count": 2,
   "metadata": {
    "collapsed": false,
    "pycharm": {
     "name": "#%%\n"
    }
   },
   "outputs": [
    {
     "name": "stderr",
     "output_type": "stream",
     "text": [
      "[Parallel(n_jobs=8)]: Using backend LokyBackend with 8 concurrent workers.\n",
      "[Parallel(n_jobs=8)]: Done   2 tasks      | elapsed:    1.2s\n",
      "[Parallel(n_jobs=8)]: Done  16 tasks      | elapsed:    1.3s\n",
      "[Parallel(n_jobs=8)]: Done  34 tasks      | elapsed:    1.3s\n",
      "[Parallel(n_jobs=8)]: Done  80 tasks      | elapsed:    1.3s\n",
      "[Parallel(n_jobs=8)]: Done 223 tasks      | elapsed:    1.5s\n",
      "[Parallel(n_jobs=8)]: Done 776 tasks      | elapsed:    1.7s\n"
     ]
    },
    {
     "name": "stdout",
     "output_type": "stream",
     "text": [
      "None\n"
     ]
    },
    {
     "name": "stderr",
     "output_type": "stream",
     "text": [
      "[Parallel(n_jobs=8)]: Done 3336 tasks      | elapsed:    2.8s\n",
      "[Parallel(n_jobs=8)]: Done 8200 tasks      | elapsed:    4.2s\n",
      "[Parallel(n_jobs=8)]: Done 13576 tasks      | elapsed:    6.2s\n",
      "[Parallel(n_jobs=8)]: Done 19464 tasks      | elapsed:    7.9s\n",
      "[Parallel(n_jobs=8)]: Done 25864 tasks      | elapsed:   10.0s\n",
      "[Parallel(n_jobs=8)]: Done 32776 tasks      | elapsed:   12.0s\n",
      "[Parallel(n_jobs=8)]: Done 39057 tasks      | elapsed:   14.1s\n",
      "[Parallel(n_jobs=8)]: Done 40000 out of 40000 | elapsed:   14.2s finished\n"
     ]
    }
   ],
   "source": [
    "output = Parallel(n_jobs=8, verbose=9)(\n",
    "    delayed(euler_characteristic)(10, 2, np.linspace(0, np.pi, 1000))\n",
    "    for _ in range(40000)\n",
    ")"
   ]
  },
  {
   "cell_type": "code",
   "execution_count": 3,
   "metadata": {},
   "outputs": [
    {
     "name": "stdout",
     "output_type": "stream",
     "text": [
      "(39999, 1000)\n"
     ]
    }
   ],
   "source": [
    "output = np.asarray([el for el in output if el is not None])\n",
    "print(output.shape)"
   ]
  },
  {
   "cell_type": "code",
   "execution_count": 4,
   "metadata": {
    "collapsed": false,
    "pycharm": {
     "name": "#%%\n"
    }
   },
   "outputs": [
    {
     "data": {
      "image/png": "[encoded data removed]",
      "text/plain": [
       "<Figure size 432x288 with 2 Axes>"
      ]
     },
     "metadata": {
      "needs_background": "light"
     },
     "output_type": "display_data"
    }
   ],
   "source": [
    "fig, axs = plt.subplots(2, 1)\n",
    "axs[0].plot(\n",
    "    output.mean(axis=0)\n",
    ")\n",
    "axs[1].plot(\n",
    "    output.std(axis=0)\n",
    ")\n",
    "plt.show()"
   ]
  },
  {
   "cell_type": "code",
   "execution_count": 5,
   "metadata": {
    "collapsed": false,
    "pycharm": {
     "name": "#%%\n"
    }
   },
   "outputs": [],
   "source": [
    "np.save('ECC_sphere.npy', output)"
   ]
  }
 ],
 "metadata": {
  "kernelspec": {
   "display_name": "Python 3.9.0 ('p9_pip_harmonic')",
   "language": "python",
   "name": "python3"
  },
  "language_info": {
   "codemirror_mode": {
    "name": "ipython",
    "version": 3
   },
   "file_extension": ".py",
   "mimetype": "text/x-python",
   "name": "python",
   "nbconvert_exporter": "python",
   "pygments_lexer": "ipython3",
   "version": "3.9.0"
  },
  "vscode": {
   "interpreter": {
    "hash": "53f2c8ba4bb741a7ccbb8b4a48478c4f40f8f0be2d1921d6f7e386b3d0e34add"
   }
  }
 },
 "nbformat": 4,
 "nbformat_minor": 0
}
