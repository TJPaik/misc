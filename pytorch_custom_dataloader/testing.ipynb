{
 "cells": [
  {
   "cell_type": "code",
   "execution_count": 1,
   "metadata": {},
   "outputs": [],
   "source": [
    "from time import sleep, time\n",
    "\n",
    "import torch\n",
    "from torch.utils.data import Dataset, DataLoader, IterableDataset\n",
    "\n",
    "from custom_dataloader import custom_dataloader\n",
    "\n",
    "\n",
    "# Testing Dataset\n",
    "class Original(Dataset):\n",
    "    def __init__(self):\n",
    "        super(Original, self).__init__()\n",
    "        self.data = torch.arange(10).view(5, 2)\n",
    "\n",
    "    def __len__(self):\n",
    "        return 5\n",
    "\n",
    "    def __getitem__(self, idx):\n",
    "        sleep(1)\n",
    "        return self.data[idx]\n",
    "\n",
    "\n",
    "testing_dataset = Original()"
   ]
  },
  {
   "cell_type": "code",
   "execution_count": 2,
   "metadata": {},
   "outputs": [],
   "source": [
    "original_dataloader = DataLoader(testing_dataset, 3, False, num_workers=5, prefetch_factor=2)\n",
    "new_dataloader_1 = custom_dataloader(original_dataloader, 2, 1)\n",
    "new_dataloader_2 = custom_dataloader(original_dataloader, 5, 4)"
   ]
  },
  {
   "cell_type": "code",
   "execution_count": 3,
   "metadata": {},
   "outputs": [
    {
     "name": "stdout",
     "output_type": "stream",
     "text": [
      "preivous :  30.364890336990356\n",
      "new1 :  15.169722557067871\n",
      "new2 :  6.201816082000732\n"
     ]
    }
   ],
   "source": [
    "data1 = []\n",
    "data2 = []\n",
    "data3 = []\n",
    "\n",
    "start_time = time()\n",
    "for epoch in range(10):\n",
    "    for el in original_dataloader:\n",
    "        data1.append(el)\n",
    "end_time = time()\n",
    "print('preivous : ', end_time - start_time)\n",
    "\n",
    "start_time = time()\n",
    "for epoch in range(10):\n",
    "    for el in new_dataloader_1:\n",
    "        data2.append(el[0])\n",
    "end_time = time()\n",
    "print('new1 : ', end_time - start_time)\n",
    "\n",
    "start_time = time()\n",
    "for epoch in range(10):\n",
    "    for el in new_dataloader_2:\n",
    "        data3.append(el[0])\n",
    "end_time = time()\n",
    "print('new2 : ', end_time - start_time)"
   ]
  },
  {
   "cell_type": "code",
   "execution_count": 4,
   "metadata": {},
   "outputs": [],
   "source": [
    "assert len(data1) == len(data2) == len(data3)\n",
    "for el1, el2, el3 in zip(data1, data2, data3):\n",
    "    assert torch.all(el1 == el2)\n",
    "    assert torch.all(el2 == el3)"
   ]
  }
 ],
 "metadata": {
  "interpreter": {
   "hash": "fe60dd12e0f4414c6c7ade450e3be58915aae6f5a7d0402c5582dbdac0bf3a4a"
  },
  "kernelspec": {
   "display_name": "Python 3.8.0 ('p8_pip')",
   "language": "python",
   "name": "python3"
  },
  "language_info": {
   "codemirror_mode": {
    "name": "ipython",
    "version": 3
   },
   "file_extension": ".py",
   "mimetype": "text/x-python",
   "name": "python",
   "nbconvert_exporter": "python",
   "pygments_lexer": "ipython3",
   "version": "3.9.1"
  },
  "orig_nbformat": 4
 },
 "nbformat": 4,
 "nbformat_minor": 2
}